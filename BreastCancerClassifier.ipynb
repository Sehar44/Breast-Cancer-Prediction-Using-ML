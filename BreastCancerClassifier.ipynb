{
  "nbformat": 4,
  "nbformat_minor": 0,
  "metadata": {
    "colab": {
      "provenance": []
    },
    "kernelspec": {
      "name": "python3",
      "display_name": "Python 3"
    },
    "language_info": {
      "name": "python"
    }
  },
  "cells": [
    {
      "cell_type": "markdown",
      "source": [
        "Breast Cancer prediction using various ML classifiers"
      ],
      "metadata": {
        "id": "RPJSLpiB7mKZ"
      }
    },
    {
      "cell_type": "markdown",
      "source": [
        "1. Importing Libraries"
      ],
      "metadata": {
        "id": "WzDhpJlg7uyx"
      }
    },
    {
      "cell_type": "code",
      "execution_count": 15,
      "metadata": {
        "id": "Dqb8-uhx61wb"
      },
      "outputs": [],
      "source": [
        "import numpy as np\n",
        "import pandas as pd\n",
        "import matplotlib.pyplot as plt\n",
        "from sklearn.metrics import confusion_matrix,accuracy_score"
      ]
    },
    {
      "cell_type": "markdown",
      "source": [
        "2. Importing Dataset"
      ],
      "metadata": {
        "id": "cwUB8U1E7y6_"
      }
    },
    {
      "cell_type": "code",
      "source": [
        "df=pd.read_csv(\"/content/Dataset_master.xlsx - Breast Cancer Detection Classif.csv\")\n",
        "X=df.iloc[:,:-1].values\n",
        "Y=df.iloc[:,-1].values"
      ],
      "metadata": {
        "id": "lSxfjjua7D-I"
      },
      "execution_count": 2,
      "outputs": []
    },
    {
      "cell_type": "markdown",
      "source": [
        "3.Checking for missing values"
      ],
      "metadata": {
        "id": "G4wgm-uZChZE"
      }
    },
    {
      "cell_type": "code",
      "source": [
        "df.isnull().sum()"
      ],
      "metadata": {
        "colab": {
          "base_uri": "https://localhost:8080/"
        },
        "id": "C_WO7CYeClal",
        "outputId": "215b9e4d-ba13-4a0f-c935-c2069fcc660e"
      },
      "execution_count": 26,
      "outputs": [
        {
          "output_type": "execute_result",
          "data": {
            "text/plain": [
              "id                         0\n",
              "radius_mean                0\n",
              "texture_mean               0\n",
              "perimeter_mean             0\n",
              "area_mean                  0\n",
              "smoothness_mean            0\n",
              "compactness_mean           0\n",
              "concavity_mean             0\n",
              "concave points_mean        0\n",
              "symmetry_mean              0\n",
              "fractal_dimension_mean     0\n",
              "radius_se                  0\n",
              "texture_se                 0\n",
              "perimeter_se               0\n",
              "area_se                    0\n",
              "smoothness_se              0\n",
              "compactness_se             0\n",
              "concavity_se               0\n",
              "concave points_se          0\n",
              "symmetry_se                0\n",
              "fractal_dimension_se       0\n",
              "radius_worst               0\n",
              "texture_worst              0\n",
              "perimeter_worst            0\n",
              "area_worst                 0\n",
              "smoothness_worst           0\n",
              "compactness_worst          0\n",
              "concavity_worst            0\n",
              "concave points_worst       0\n",
              "symmetry_worst             0\n",
              "fractal_dimension_worst    0\n",
              "diagnosis                  0\n",
              "dtype: int64"
            ]
          },
          "metadata": {},
          "execution_count": 26
        }
      ]
    },
    {
      "cell_type": "markdown",
      "source": [
        "3. Splitting the dataset"
      ],
      "metadata": {
        "id": "h62cbUiZ72PH"
      }
    },
    {
      "cell_type": "code",
      "source": [
        "from sklearn.model_selection import train_test_split\n",
        "X_train,X_test,Y_train,Y_test=train_test_split(X,Y,test_size=0.3,random_state=42)"
      ],
      "metadata": {
        "id": "uW-EOicX7EIF"
      },
      "execution_count": 3,
      "outputs": []
    },
    {
      "cell_type": "markdown",
      "source": [
        "4. Feature Scaling"
      ],
      "metadata": {
        "id": "BhHJyJht76Lk"
      }
    },
    {
      "cell_type": "code",
      "source": [
        "from sklearn.preprocessing import StandardScaler\n",
        "sc=StandardScaler()\n",
        "X_train=sc.fit_transform(X_train)\n",
        "X_test=sc.fit_transform(X_test)\n",
        "print(X_train)"
      ],
      "metadata": {
        "colab": {
          "base_uri": "https://localhost:8080/"
        },
        "id": "s0x-R7uZ772N",
        "outputId": "f5e18d63-b845-40cb-e623-7333d96fe7ea"
      },
      "execution_count": 5,
      "outputs": [
        {
          "output_type": "stream",
          "name": "stdout",
          "text": [
            "[[-0.23055943 -0.12348985 -0.29680142 ... -0.84082156 -0.8563616\n",
            "  -0.76574773]\n",
            " [-0.2305946  -0.22826757 -0.65795149 ... -0.37706655 -1.3415819\n",
            "  -0.41480748]\n",
            " [-0.2302707   0.14553402 -1.23056444 ... -0.04762652 -0.08997059\n",
            "   0.4882635 ]\n",
            " ...\n",
            " [-0.16718429  0.03226081 -0.55578404 ... -1.26179013 -0.6828391\n",
            "  -1.27672587]\n",
            " [-0.23025553 -0.05552593  0.10949242 ...  1.07924018  0.4755842\n",
            "   1.25530227]\n",
            " [-0.23061433 -0.56525537  0.32333128 ... -0.61952313 -0.30366032\n",
            "  -0.84348042]]\n"
          ]
        }
      ]
    },
    {
      "cell_type": "markdown",
      "source": [
        "1. Logistic Regression"
      ],
      "metadata": {
        "id": "x2CDVO7d8Mj0"
      }
    },
    {
      "cell_type": "code",
      "source": [
        "from sklearn.linear_model import LogisticRegression\n",
        "LR=LogisticRegression(random_state=42)\n",
        "LR.fit(X_train,Y_train)\n",
        "LR_pred=LR.predict(X_test)\n",
        "print(confusion_matrix(LR_pred,Y_test))\n",
        "print(accuracy_score(LR_pred,Y_test))"
      ],
      "metadata": {
        "colab": {
          "base_uri": "https://localhost:8080/"
        },
        "id": "lyslLhBu-Kk5",
        "outputId": "3704e057-5260-48c7-d68d-c8f741a03eb5"
      },
      "execution_count": 16,
      "outputs": [
        {
          "output_type": "stream",
          "name": "stdout",
          "text": [
            "[[108   3]\n",
            " [  0  60]]\n",
            "0.9824561403508771\n"
          ]
        }
      ]
    },
    {
      "cell_type": "markdown",
      "source": [
        "2. KNN"
      ],
      "metadata": {
        "id": "rYe_dtUq-YvF"
      }
    },
    {
      "cell_type": "code",
      "source": [
        "from sklearn.neighbors import KNeighborsClassifier\n",
        "KNN=KNeighborsClassifier(n_neighbors=13,metric='minkowski',p=2)\n",
        "KNN.fit(X_train,Y_train)\n",
        "KNN_pred=KNN.predict(X_test)\n",
        "print(confusion_matrix(KNN_pred,Y_test))\n",
        "LR_AS=accuracy_score(KNN_pred,Y_test)\n",
        "print(LR_AS)"
      ],
      "metadata": {
        "colab": {
          "base_uri": "https://localhost:8080/"
        },
        "id": "pr5KLCz2-a4C",
        "outputId": "d6ae5bab-80cf-408e-eff6-4ee1220e2538"
      },
      "execution_count": 27,
      "outputs": [
        {
          "output_type": "stream",
          "name": "stdout",
          "text": [
            "[[106   5]\n",
            " [  2  58]]\n",
            "0.9590643274853801\n"
          ]
        }
      ]
    },
    {
      "cell_type": "markdown",
      "source": [
        "3.SVM"
      ],
      "metadata": {
        "id": "SYoVC6nX-oPy"
      }
    },
    {
      "cell_type": "code",
      "source": [
        "from sklearn.svm import SVC\n",
        "SVM=SVC(kernel='linear',random_state=42)\n",
        "SVM.fit(X_train,Y_train)\n",
        "SVM_pred=SVM.predict(X_test)\n",
        "print(confusion_matrix(SVM_pred,Y_test))\n",
        "SVM_AS=accuracy_score(SVM_pred,Y_test)\n",
        "print(SVM_AS)"
      ],
      "metadata": {
        "colab": {
          "base_uri": "https://localhost:8080/"
        },
        "id": "Haz73Lu3-qZd",
        "outputId": "ad5d04ef-67c0-4c75-c42b-05d5ed8a30ad"
      },
      "execution_count": 29,
      "outputs": [
        {
          "output_type": "stream",
          "name": "stdout",
          "text": [
            "[[107   3]\n",
            " [  1  60]]\n",
            "0.9766081871345029\n"
          ]
        }
      ]
    },
    {
      "cell_type": "markdown",
      "source": [
        "4. Naive Bayes"
      ],
      "metadata": {
        "id": "eoZkmyAw_IOw"
      }
    },
    {
      "cell_type": "code",
      "source": [
        "from sklearn.naive_bayes import GaussianNB\n",
        "NB=GaussianNB()\n",
        "NB.fit(X_train,Y_train)\n",
        "NB_pred=NB.predict(X_test)\n",
        "print(confusion_matrix(NB_pred,Y_test))\n",
        "NB_AS=accuracy_score(NB_pred,Y_test)\n",
        "print(NB_AS)"
      ],
      "metadata": {
        "colab": {
          "base_uri": "https://localhost:8080/"
        },
        "id": "hBNEcKWC_J4M",
        "outputId": "15a0ea6d-84c4-4a7b-a8fe-69753ca7eac0"
      },
      "execution_count": 31,
      "outputs": [
        {
          "output_type": "stream",
          "name": "stdout",
          "text": [
            "[[105   6]\n",
            " [  3  57]]\n",
            "0.9473684210526315\n"
          ]
        }
      ]
    },
    {
      "cell_type": "markdown",
      "source": [
        "5. Decision Tree"
      ],
      "metadata": {
        "id": "pGjgPFdX-12G"
      }
    },
    {
      "cell_type": "code",
      "source": [
        "from sklearn.tree import DecisionTreeClassifier\n",
        "DT=DecisionTreeClassifier(criterion='entropy',random_state=42)\n",
        "DT.fit(X_train,Y_train)\n",
        "DT_pred=DT.predict(X_test)\n",
        "print(confusion_matrix(DT_pred,Y_test))\n",
        "DT_AS=accuracy_score(DT_pred,Y_test)"
      ],
      "metadata": {
        "colab": {
          "base_uri": "https://localhost:8080/"
        },
        "id": "hsnpFLql-01s",
        "outputId": "d83dc76f-44da-4a29-e7ff-e3caebdcf511"
      },
      "execution_count": 32,
      "outputs": [
        {
          "output_type": "stream",
          "name": "stdout",
          "text": [
            "[[107   5]\n",
            " [  1  58]]\n"
          ]
        }
      ]
    },
    {
      "cell_type": "markdown",
      "source": [
        "6. Random Forest"
      ],
      "metadata": {
        "id": "i2sssONF_ZRd"
      }
    },
    {
      "cell_type": "code",
      "source": [
        "from sklearn.ensemble import RandomForestClassifier\n",
        "RF=RandomForestClassifier(n_estimators=18,criterion='entropy')\n",
        "RF.fit(X_train,Y_train)\n",
        "RF_pred=RF.predict(X_test)\n",
        "print(confusion_matrix(RF_pred,Y_test))\n",
        "RF_AS=accuracy_score(RF_pred,Y_test)\n",
        "print(RF_AS)"
      ],
      "metadata": {
        "colab": {
          "base_uri": "https://localhost:8080/"
        },
        "id": "Ej4c-2Qp_EcO",
        "outputId": "8a945e7c-ae57-49de-d3f7-387d26fef266"
      },
      "execution_count": 33,
      "outputs": [
        {
          "output_type": "stream",
          "name": "stdout",
          "text": [
            "[[107   4]\n",
            " [  1  59]]\n",
            "0.9707602339181286\n"
          ]
        }
      ]
    }
  ]
}